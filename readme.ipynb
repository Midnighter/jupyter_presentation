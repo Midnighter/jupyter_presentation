{
 "cells": [
  {
   "cell_type": "markdown",
   "metadata": {},
   "source": [
    "# A Whirlwind Tour of the Jupyter Notebook Ecosystem"
   ]
  },
  {
   "cell_type": "markdown",
   "metadata": {},
   "source": [
    "The following files form the basis for an interactive presentation of the Jupyter Notebook, it's features as a rich HTML document, Python interaction, and some neat little tricks. Please note that quite a few of them are adaptations of example notebooks."
   ]
  },
  {
   "cell_type": "markdown",
   "metadata": {},
   "source": [
    "1. The Notebook, in its simplest use-case, can be an IPython shell replacement with multi-line editing ([Notebook](shell_replacement.ipynb)).\n",
    "2. Markdown formatting allows for some pretty annotation and [literate programming](https://en.wikipedia.org/wiki/Literate_programming) ([Notebook](markdown_formatting.ipynb)).\n",
    "3. Modern browsers allow for some rich display of objects allowing for some neat representations ([Notebook](rich_output.ipynb)).\n",
    "4. Line and cell magics are basically functions that behave like keyword-functions. They are pretty useful! ([Notebook](magics.ipynb)).\n",
    "5. The notebook allows for the inclusion of plots making it a fantastic tool for generating data analysis reports ([Notebook](plots.ipynb)).\n",
    "6. Interactive widgets increase the usefulness of the notebook as a reporting tool since data can be investigated more thoroughly without editing code ([Notebook](interact.ipynb))."
   ]
  },
  {
   "cell_type": "markdown",
   "metadata": {},
   "source": [
    "# Resources"
   ]
  },
  {
   "cell_type": "markdown",
   "metadata": {},
   "source": [
    "## General"
   ]
  },
  {
   "cell_type": "markdown",
   "metadata": {},
   "source": [
    "* Of course, [the main website](http://jupyter.org/) has a wealth of information. Links on how to [interact with the community](http://jupyter.org/community.html) and much more.\n",
    "* [Documentation](http://jupyter.readthedocs.io/en/latest/index.html) - hated by some and a little confusing at times due to the switch from IPython Notebook to Jupyter with a Python kernel but always an indispensable tool.\n",
    "* Quickly [try out the notebook](https://try.jupyter.org/)."
   ]
  },
  {
   "cell_type": "markdown",
   "metadata": {},
   "source": [
    "## Working with the Notebook"
   ]
  },
  {
   "cell_type": "markdown",
   "metadata": {},
   "source": [
    "* [The examples](https://github.com/jupyter/notebook/tree/master/docs/source/examples/Notebook) that come with the Jupyter Notebook package itself.\n",
    "* You can share notebooks via Gists or repositories on Github and look at them using [nbviewer](http://nbviewer.jupyter.org/).\n",
    "* [A gallery](https://github.com/ipython/ipython/wiki/A-gallery-of-interesting-IPython-Notebooks#introductory-tutorials) of notebooks with really broad topic areas.\n",
    "* [Javascript extensions](https://github.com/ipython-contrib/IPython-notebook-extensions/wiki/Home-4.x-%28Jupyter%29) that can make your life easier (or more interesting)."
   ]
  },
  {
   "cell_type": "markdown",
   "metadata": {},
   "source": [
    "## Multi-user Setting"
   ]
  },
  {
   "cell_type": "markdown",
   "metadata": {},
   "source": [
    "* The [JupyterHub](https://jupyterhub.readthedocs.io/en/latest/).\n",
    "* [Grading tools](https://github.com/jupyter/nbgrader) for the classroom."
   ]
  }
 ],
 "metadata": {
  "kernelspec": {
   "display_name": "Python 3",
   "language": "python",
   "name": "python3"
  },
  "language_info": {
   "codemirror_mode": {
    "name": "ipython",
    "version": 3
   },
   "file_extension": ".py",
   "mimetype": "text/x-python",
   "name": "python",
   "nbconvert_exporter": "python",
   "pygments_lexer": "ipython3",
   "version": "3.4.3"
  },
  "widgets": {
   "state": {},
   "version": "1.1.2"
  }
 },
 "nbformat": 4,
 "nbformat_minor": 0
}
